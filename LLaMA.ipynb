{
  "nbformat": 4,
  "nbformat_minor": 0,
  "metadata": {
    "colab": {
      "provenance": [],
      "gpuType": "T4"
    },
    "kernelspec": {
      "name": "python3",
      "display_name": "Python 3"
    },
    "language_info": {
      "name": "python"
    },
    "accelerator": "GPU"
  },
  "cells": [
    {
      "cell_type": "code",
      "source": [
        "import torch\n",
        "from torch import nn\n",
        "from torch.nn import functional as F\n",
        "import numpy as np\n",
        "from matplotlib import pyplot as plt\n",
        "import time\n",
        "import pandas as pd"
      ],
      "metadata": {
        "id": "4mOxpPYUxEPH"
      },
      "execution_count": 84,
      "outputs": []
    },
    {
      "cell_type": "code",
      "source": [
        "!wget https://raw.githubusercontent.com/karpathy/char-rnn/master/data/tinyshakespeare/input.txt"
      ],
      "metadata": {
        "colab": {
          "base_uri": "https://localhost:8080/"
        },
        "id": "vwhZpPosHJFK",
        "outputId": "210b3b03-81df-4c2a-d829-729cfb7ad957"
      },
      "execution_count": 85,
      "outputs": [
        {
          "output_type": "stream",
          "name": "stdout",
          "text": [
            "--2024-01-20 18:41:24--  https://raw.githubusercontent.com/karpathy/char-rnn/master/data/tinyshakespeare/input.txt\n",
            "Resolving raw.githubusercontent.com (raw.githubusercontent.com)... 185.199.108.133, 185.199.109.133, 185.199.110.133, ...\n",
            "Connecting to raw.githubusercontent.com (raw.githubusercontent.com)|185.199.108.133|:443... connected.\n",
            "HTTP request sent, awaiting response... 200 OK\n",
            "Length: 1115394 (1.1M) [text/plain]\n",
            "Saving to: ‘input.txt.2’\n",
            "\n",
            "input.txt.2         100%[===================>]   1.06M  --.-KB/s    in 0.007s  \n",
            "\n",
            "2024-01-20 18:41:24 (158 MB/s) - ‘input.txt.2’ saved [1115394/1115394]\n",
            "\n"
          ]
        }
      ]
    },
    {
      "cell_type": "code",
      "source": [
        "with open('input.txt', 'r', encoding='utf-8') as f:\n",
        "  lines = f.read()"
      ],
      "metadata": {
        "id": "SUO96r4HvPMX"
      },
      "execution_count": 86,
      "outputs": []
    },
    {
      "cell_type": "code",
      "source": [
        "vocab = sorted(list(set(lines)))\n",
        "itos = {i:ch for i, ch in enumerate(vocab)}\n",
        "stoi = {ch:i for i, ch in enumerate(vocab)}\n",
        "\n",
        "print(lines[:30])"
      ],
      "metadata": {
        "colab": {
          "base_uri": "https://localhost:8080/"
        },
        "id": "_CLRDtNJvR_N",
        "outputId": "7f0294b4-0901-4f61-8bb9-198a6c525578"
      },
      "execution_count": 87,
      "outputs": [
        {
          "output_type": "stream",
          "name": "stdout",
          "text": [
            "First Citizen:\n",
            "Before we proce\n"
          ]
        }
      ]
    },
    {
      "cell_type": "code",
      "source": [
        "# simple tokenization by characters\n",
        "def encode(s):\n",
        "    return [stoi[ch] for ch in s]\n",
        "\n",
        "def decode(l):\n",
        "    return ''.join([itos[i] for i in l])\n",
        "\n",
        "print('vocab size:', len(vocab))\n",
        "decode(encode(\"hello\"))"
      ],
      "metadata": {
        "colab": {
          "base_uri": "https://localhost:8080/",
          "height": 52
        },
        "id": "XoeFl8AhvefO",
        "outputId": "409c8982-7778-439b-9534-e401ad6d4b90"
      },
      "execution_count": 88,
      "outputs": [
        {
          "output_type": "stream",
          "name": "stdout",
          "text": [
            "vocab size: 65\n"
          ]
        },
        {
          "output_type": "execute_result",
          "data": {
            "text/plain": [
              "'hello'"
            ],
            "application/vnd.google.colaboratory.intrinsic+json": {
              "type": "string"
            }
          },
          "metadata": {},
          "execution_count": 88
        }
      ]
    },
    {
      "cell_type": "code",
      "source": [
        "## Creating a config object that stores some basic model params. It makes the code way more readable and removes constants and magic numbers from the code. We can keep adding to it.\n",
        "MASTER_CONFIG = {\n",
        "    \"vocab_size\": len(vocab),\n",
        "}\n",
        "\n",
        "device = 'cuda' if torch.cuda.is_available() else 'cpu'\n",
        "print(device)"
      ],
      "metadata": {
        "colab": {
          "base_uri": "https://localhost:8080/"
        },
        "id": "aR78nPFTvrou",
        "outputId": "2a9f3b65-0f02-443a-d267-754d31f4fc9c"
      },
      "execution_count": 89,
      "outputs": [
        {
          "output_type": "stream",
          "name": "stdout",
          "text": [
            "cuda\n"
          ]
        }
      ]
    },
    {
      "cell_type": "code",
      "source": [
        "dataset = torch.tensor(encode(lines), dtype=torch.int8)\n",
        "dataset.shape"
      ],
      "metadata": {
        "colab": {
          "base_uri": "https://localhost:8080/"
        },
        "id": "xdYTOhapv4jv",
        "outputId": "3fcd6f98-7453-41f1-ffcc-c14755def0cc"
      },
      "execution_count": 90,
      "outputs": [
        {
          "output_type": "execute_result",
          "data": {
            "text/plain": [
              "torch.Size([1115394])"
            ]
          },
          "metadata": {},
          "execution_count": 90
        }
      ]
    },
    {
      "cell_type": "code",
      "source": [
        "## Generating the training data and labels for batches\n",
        "def get_batches(data, split, batch_size, context_window, config=MASTER_CONFIG):\n",
        "  train = data[:int(0.8 * len(data))]\n",
        "  val = data[int(0.8 * len(data)) : int(0.9 * len(data))]\n",
        "  test = data[int(0.9 * len(data)) : ]\n",
        "\n",
        "  batch_data = train\n",
        "  if split == 'val':\n",
        "    batch_data = val\n",
        "  if split == 'test':\n",
        "    batch_data = test\n",
        "\n",
        "  ## Picking random starting points\n",
        "  ix = torch.randint(0, batch_data.size(0) - context_window - 1, (batch_size, ))\n",
        "  x = torch.stack([batch_data[i : i+context_window] for i in ix]).long()\n",
        "  y = torch.stack([batch_data[i+1 : i+context_window+1] for i in ix]).long()\n",
        "\n",
        "  return x.to(device), y.to(device)\n",
        "\n",
        "MASTER_CONFIG.update({\n",
        "    'batch_size' : 9,\n",
        "    'context_window' : 16\n",
        "})\n",
        "\n",
        "xs, ys = get_batches(dataset, 'train', MASTER_CONFIG['batch_size'], MASTER_CONFIG['context_window'])\n",
        "\n",
        "[(decode(xs[i].tolist()), decode(ys[i].tolist())) for i in range(len(xs))]"
      ],
      "metadata": {
        "colab": {
          "base_uri": "https://localhost:8080/"
        },
        "id": "FtgL8UipxMmY",
        "outputId": "928010ac-fa84-4167-c44d-64144a911c60"
      },
      "execution_count": 91,
      "outputs": [
        {
          "output_type": "execute_result",
          "data": {
            "text/plain": [
              "[(' petitions: made', 'petitions: made\\n'),\n",
              " (' Lord Hastings n', 'Lord Hastings no'),\n",
              " (\"hush'd and nough\", \"ush'd and nought\"),\n",
              " (' beseech thee, y', 'beseech thee, yo'),\n",
              " ('ch and spurs; or', 'h and spurs; or '),\n",
              " ('it.\\n\\nQUEEN MARGA', 't.\\n\\nQUEEN MARGAR'),\n",
              " (' more but abide.', 'more but abide.\\n'),\n",
              " ('yet, by the fait', 'et, by the faith'),\n",
              " ('ew thy brother R', 'w thy brother Ru')]"
            ]
          },
          "metadata": {},
          "execution_count": 91
        }
      ]
    },
    {
      "cell_type": "code",
      "source": [
        "## Evaluation function\n",
        "@torch.no_grad()  ## we won't be computing gradients for evaluation func\n",
        "def evaluate_loss(model, config=MASTER_CONFIG):\n",
        "  out = {}\n",
        "  model.eval()\n",
        "  for split in ['train','val']:\n",
        "    losses = []\n",
        "    for _ in range(10):\n",
        "      xb, yb = get_batches(dataset, split, config['batch_size'], config['context_window'])\n",
        "      _, loss = model(xb, yb)\n",
        "      losses.append(loss.item())\n",
        "\n",
        "    out[split] = np.mean(losses)\n",
        "\n",
        "  model.train()\n",
        "  return out"
      ],
      "metadata": {
        "id": "rw2eMa3zz9Cg"
      },
      "execution_count": 92,
      "outputs": []
    },
    {
      "cell_type": "code",
      "source": [
        "## Train func\n",
        "MASTER_CONFIG.update({\n",
        "    'epochs': 5000,\n",
        "    'log_interval': 10,\n",
        "    'batch_size': 32,\n",
        "})\n",
        "\n",
        "def train(model, optimizer, scheduler=None, config=MASTER_CONFIG, print_logs=False):\n",
        "  losses = []\n",
        "  start_time = time.time()\n",
        "  for epoch in range(config['epochs']):\n",
        "    optimizer.zero_grad()\n",
        "\n",
        "    xs, ys = get_batches(dataset, 'train', config['batch_size'], config['context_window'])\n",
        "    logits, loss = model(xs, targets=ys)\n",
        "    loss.backward()\n",
        "    optimizer.step()\n",
        "\n",
        "    if scheduler:\n",
        "      scheduler.step()\n",
        "\n",
        "    if epoch % config['log_interval'] == 0:\n",
        "      batch_time = time.time() - start_time\n",
        "      x = evaluate_loss(model)\n",
        "      losses += [x]\n",
        "      if print_logs:\n",
        "        print(f\"Epoch {epoch} | val loss {x['val']:.3f} | Time {batch_time:.3f} | ETA in seconds {batch_time * (config['epochs'] - epoch)/config['log_interval'] :.3f}\")\n",
        "      start_time = time.time()\n",
        "\n",
        "      if scheduler:\n",
        "        print(\"lr: \", scheduler.get_lr())\n",
        "\n",
        "  print(\"validation loss: \", losses[-1]['val'])\n",
        "  return pd.DataFrame(losses).plot()"
      ],
      "metadata": {
        "id": "pj6bz8iJ3_J6"
      },
      "execution_count": 119,
      "outputs": []
    },
    {
      "cell_type": "code",
      "source": [
        "## Generate func to generate output texts\n",
        "def generate(model, config=MASTER_CONFIG, max_new_tokens=30):\n",
        "  idx = torch.zeros(5,1).long().to(device)\n",
        "  for _ in range(max_new_tokens):\n",
        "    logits = model(idx[:, -config['context_window']: ])\n",
        "    last_time_step_logits = logits[:,-1,:] ## all the batches(1), last time step, all the logits\n",
        "    p = F.softmax(last_time_step_logits, dim=-1)\n",
        "    idx_next = torch.multinomial(p, num_samples=1)  ## sample from the distribution to get the next token\n",
        "    idx = torch.cat([idx, idx_next], dim=-1) ## Append to the sequence\n",
        "\n",
        "  return [decode(x) for x in idx.tolist()]"
      ],
      "metadata": {
        "id": "AJvrEAyM5sl6"
      },
      "execution_count": 120,
      "outputs": []
    },
    {
      "cell_type": "markdown",
      "source": [
        "Llama describes three architectural modifications to the original Transformer:\n",
        "1. RMSNorm for pre-normalization\n",
        "2. Rotary embeddings\n",
        "3. SwiGLU activation function"
      ],
      "metadata": {
        "id": "LeGv1HEB9Tgt"
      }
    },
    {
      "cell_type": "code",
      "source": [
        "class RMSNorm(nn.Module):\n",
        "  def __init__(self, layer_shape, eps=1e-8, bias=False):\n",
        "    super().__init__()\n",
        "    self.register_parameter(\"scale\", nn.Parameter(torch.ones(layer_shape)))\n",
        "\n",
        "  def forward(self, x):\n",
        "    \"\"\"\n",
        "    Assumes shape is (batch, seq_len, d_model)\n",
        "    \"\"\"\n",
        "    ## frob norm is not the same as RMS. RMS = 1/sqrt(N) * frob norm\n",
        "    ff_rms = torch.linalg.norm(x, dim=(1,2)) * x[0].numel() ** -.5\n",
        "    raw = x / ff_rms.unsqueeze(-1).unsqueeze(-1)\n",
        "    return self.scale[:x.shape[1], :].unsqueeze(0) * raw\n",
        "\n",
        "\n",
        "config = {\n",
        "    'batch_size': 5,\n",
        "    'context_window': 11,\n",
        "    'd_model': 13,\n",
        "}\n",
        "batch = torch.randn((config['batch_size'], config['context_window'], config['d_model']))\n",
        "m = RMSNorm((config['context_window'], config['d_model']))\n",
        "g = m(batch)\n",
        "print(g.shape)"
      ],
      "metadata": {
        "colab": {
          "base_uri": "https://localhost:8080/"
        },
        "id": "ovCx8hRe896r",
        "outputId": "7ae3be84-36bd-4aa7-da99-5d302646248f"
      },
      "execution_count": 121,
      "outputs": [
        {
          "output_type": "stream",
          "name": "stdout",
          "text": [
            "torch.Size([5, 11, 13])\n"
          ]
        }
      ]
    },
    {
      "cell_type": "code",
      "source": [
        "def get_rotary_matrix(context_window, embedding_dim):\n",
        "    R = torch.zeros((context_window, embedding_dim, embedding_dim), requires_grad=False).to(device)\n",
        "    for position in range(context_window):\n",
        "        for i in range(embedding_dim//2):\n",
        "            theta = 10000. ** (-2.*(i - 1) / embedding_dim)\n",
        "            m_theta = position * theta\n",
        "            R[position, 2*i,2*i] = np.cos(m_theta)\n",
        "            R[position, 2*i,2*i+1] = - np.sin(m_theta)\n",
        "            R[position, 2*i+1,2*i] = np.sin(m_theta)\n",
        "            R[position, 2*i+1,2*i+1] = np.cos(m_theta)\n",
        "    return R"
      ],
      "metadata": {
        "id": "hNr7AquVDjbd"
      },
      "execution_count": 122,
      "outputs": []
    },
    {
      "cell_type": "code",
      "source": [
        "class RoPEMaskedAttentionHead(nn.Module):\n",
        "  def __init__(self, config):\n",
        "    super().__init__()\n",
        "    self.config = config\n",
        "    self.w_q = nn.Linear(config['d_model'], config['d_model'], bias=False)\n",
        "    self.w_k = nn.Linear(config['d_model'], config['d_model'], bias=False)\n",
        "    self.w_v = nn.Linear(config['d_model'], config['d_model'], bias=False)\n",
        "\n",
        "    self.R = get_rotary_matrix(config['context_window'], config['d_model'])\n",
        "\n",
        "  def get_rotary_matrix(context_window, embedding_dim):\n",
        "    R = torch.zeros((context_window, embedding_dim, embedding_dim), requires_grad=False)\n",
        "    for position in range(context_window):\n",
        "      for i in range(embedding_dim//2):\n",
        "        theta = 10000. ** (-2.*(i - 1) / embedding_dim)\n",
        "        m_theta = position * theta\n",
        "        R[position, 2*i,2*i] = np.cos(m_theta)\n",
        "        R[position, 2*i,2*i+1] = - np.sin(m_theta)\n",
        "        R[position, 2*i+1,2*i] = np.sin(m_theta)\n",
        "        R[position, 2*i+1,2*i+1] = np.cos(m_theta)\n",
        "\n",
        "    return R\n",
        "\n",
        "  def forward(self, x, return_attn_weights=False):\n",
        "    b, m, d = x.shape\n",
        "\n",
        "    q = self.w_q(x)\n",
        "    k = self.w_k(x)\n",
        "    v = self.w_v(x)\n",
        "\n",
        "    q_rotated = (torch.bmm(q.transpose(0,1), self.R[:m])).transpose(0,1)\n",
        "    k_rotated = (torch.bmm(k.transpose(0,1), self.R[:m])).transpose(0,1)\n",
        "\n",
        "    activations = F.scaled_dot_product_attention(q_rotated, k_rotated, v, dropout_p = 0.1, is_causal=True)\n",
        "\n",
        "    if return_attn_weights:\n",
        "      attn_mask = torch.tril(torch.ones((m,m)), diagonal=0).to(device)\n",
        "      attn_weights = torch.bmm(q_rotated, k_rotated.transpose(1,2)) / np.sqrt(d) + attn_mask\n",
        "      attn_weights = F.softmax(attn_weights, dim=-1)\n",
        "      return activations, attn_weights\n",
        "    return activations\n",
        "\n",
        "config = {\n",
        "    'batch_size': 10,\n",
        "    'd_model': 512,\n",
        "    'n_heads': 8,\n",
        "    'context_window': 16,\n",
        "}\n",
        "\n",
        "layer = RoPEMaskedAttentionHead(config).to(device)\n",
        "batch = torch.randn((config['batch_size'], config['context_window'], config['d_model'])).to(device)\n",
        "output, attn_weights = layer(batch, return_attn_weights=True)\n",
        "plt.imshow(attn_weights[0].cpu().detach().numpy())\n",
        "plt.colorbar()"
      ],
      "metadata": {
        "colab": {
          "base_uri": "https://localhost:8080/",
          "height": 450
        },
        "id": "gBj_MiXK-u7q",
        "outputId": "1acba618-c9c6-4169-c71f-d41172d92fd9"
      },
      "execution_count": 123,
      "outputs": [
        {
          "output_type": "execute_result",
          "data": {
            "text/plain": [
              "<matplotlib.colorbar.Colorbar at 0x78a90469a830>"
            ]
          },
          "metadata": {},
          "execution_count": 123
        },
        {
          "output_type": "display_data",
          "data": {
            "text/plain": [
              "<Figure size 640x480 with 2 Axes>"
            ],
            "image/png": "[encoded data removed]"
          },
          "metadata": {}
        }
      ]
    },
    {
      "cell_type": "code",
      "source": [
        "class RoPEMaskedMultiheadAttention(nn.Module):\n",
        "  def __init__(self, config):\n",
        "    super().__init__()\n",
        "    self.config = config\n",
        "    self.heads = nn.ModuleList([RoPEMaskedAttentionHead(config) for _ in range(config['n_heads'])])\n",
        "    self.linear = nn.Linear(config['n_heads'] * config['d_model'], config['d_model'])\n",
        "    self.dropout = nn.Dropout(0.1)\n",
        "\n",
        "  def forward(self, x):\n",
        "    heads = [h(x) for h in self.heads]\n",
        "    x = torch.cat(heads, dim=-1)\n",
        "    x = self.linear(x)\n",
        "    x = self.dropout(x)\n",
        "    return x\n",
        "\n",
        "\n",
        "MASTER_CONFIG.update({\n",
        "    'n_heads': 8,\n",
        "    'd_model': 128,\n",
        "})\n",
        "layer = RoPEMaskedMultiheadAttention(MASTER_CONFIG).to(device)\n",
        "batch = torch.ones((MASTER_CONFIG['batch_size'], MASTER_CONFIG['context_window'], MASTER_CONFIG['d_model'])).to(device)\n",
        "output = layer(batch)\n",
        "output.shape"
      ],
      "metadata": {
        "colab": {
          "base_uri": "https://localhost:8080/"
        },
        "id": "EjOtpWAaC4Qs",
        "outputId": "83952160-3d5d-4b0a-9fb9-667c8a79f535"
      },
      "execution_count": 124,
      "outputs": [
        {
          "output_type": "execute_result",
          "data": {
            "text/plain": [
              "torch.Size([32, 16, 128])"
            ]
          },
          "metadata": {},
          "execution_count": 124
        }
      ]
    },
    {
      "cell_type": "code",
      "source": [
        "class SwiGLU(nn.Module):\n",
        "    \"\"\"\n",
        "    Swish-Gated Linear Unit\n",
        "    https://arxiv.org/pdf/2002.05202v1.pdf\n",
        "    \"\"\"\n",
        "    def __init__(self, size):\n",
        "        super().__init__()\n",
        "        self.config = config\n",
        "        self.linear_gate = nn.Linear(size, size)\n",
        "        self.linear = nn.Linear(size, size)\n",
        "        self.beta = torch.randn(1, requires_grad=True)\n",
        "\n",
        "        self.beta = nn.Parameter(torch.ones(1))\n",
        "        self.register_parameter(\"beta\", self.beta)\n",
        "\n",
        "    def forward(self, x):\n",
        "        swish_gate = self.linear_gate(x) * torch.sigmoid(self.beta * self.linear_gate(x))\n",
        "        out = swish_gate * self.linear(x)\n",
        "        return out"
      ],
      "metadata": {
        "id": "1tnX5o84GLU0"
      },
      "execution_count": 125,
      "outputs": []
    },
    {
      "cell_type": "code",
      "source": [
        "class LlamaBlock(nn.Module):\n",
        "  def __init__(self, config):\n",
        "    super().__init__()\n",
        "    self.config = config\n",
        "\n",
        "    self.rms = RMSNorm((config['context_window'], config['d_model']))\n",
        "\n",
        "    self.attention = RoPEMaskedMultiheadAttention(config)\n",
        "    self.feedforward = nn.Sequential(\n",
        "        nn.Linear(config['d_model'], config['d_model']),\n",
        "        SwiGLU(config['d_model']),\n",
        "    )\n",
        "\n",
        "  def forward(self, x):\n",
        "    x = self.rms(x)\n",
        "    x = x + self.attention(x)\n",
        "\n",
        "    x = self.rms(x)\n",
        "    x = x + self.feedforward(x)\n",
        "    return x"
      ],
      "metadata": {
        "id": "bm5lYamLGn7i"
      },
      "execution_count": 126,
      "outputs": []
    },
    {
      "cell_type": "code",
      "source": [
        "block = LlamaBlock(MASTER_CONFIG).to(device)\n",
        "block(torch.randn(MASTER_CONFIG['batch_size'], MASTER_CONFIG['context_window'], MASTER_CONFIG['d_model']).to(device)).shape"
      ],
      "metadata": {
        "colab": {
          "base_uri": "https://localhost:8080/"
        },
        "id": "uIl1j4H_HanF",
        "outputId": "cdd243ff-a9f6-4b23-9213-2195069545a7"
      },
      "execution_count": 127,
      "outputs": [
        {
          "output_type": "execute_result",
          "data": {
            "text/plain": [
              "torch.Size([32, 16, 128])"
            ]
          },
          "metadata": {},
          "execution_count": 127
        }
      ]
    },
    {
      "cell_type": "code",
      "source": [
        "from collections import OrderedDict\n",
        "\n",
        "MASTER_CONFIG.update({\n",
        "    'n_layers': 4,\n",
        "})\n",
        "\n",
        "class Llama(nn.Module):\n",
        "    def __init__(self, config):\n",
        "        super().__init__()\n",
        "        self.config = config\n",
        "        self.embeddings = nn.Embedding(config['vocab_size'], config['d_model'])\n",
        "        self.llama_blocks = nn.Sequential(\n",
        "            OrderedDict([(f\"llama_{i}\", LlamaBlock(config)) for i in range(config['n_layers'])])\n",
        "        )\n",
        "\n",
        "        self.ffn = nn.Sequential(\n",
        "            nn.Linear(config['d_model'], config['d_model']),\n",
        "            SwiGLU(config['d_model']),\n",
        "            nn.Linear(config['d_model'], config['vocab_size']),\n",
        "        )\n",
        "\n",
        "        print(\"model params:\", sum([m.numel() for m in self.parameters()]))\n",
        "\n",
        "    def forward(self, idx, targets=None):\n",
        "        x = self.embeddings(idx)\n",
        "        x = self.llama_blocks(x)\n",
        "        logits = self.ffn(x)\n",
        "\n",
        "        if targets is None:\n",
        "            return logits\n",
        "\n",
        "        else:\n",
        "            loss = F.cross_entropy(logits.view(-1, self.config['vocab_size']), targets.view(-1))\n",
        "            return logits, loss\n",
        "\n",
        "llama = Llama(MASTER_CONFIG).to(device)\n",
        "optimizer = torch.optim.Adam(llama.parameters())\n",
        "train(llama, optimizer, config=MASTER_CONFIG, print_logs=False)"
      ],
      "metadata": {
        "colab": {
          "base_uri": "https://localhost:8080/",
          "height": 482
        },
        "id": "occJ97KuHrCE",
        "outputId": "cee29a04-5f43-4855-f0e0-c3cc7f8e1671"
      },
      "execution_count": 128,
      "outputs": [
        {
          "output_type": "stream",
          "name": "stdout",
          "text": [
            "model params: 2370246\n",
            "validation loss:  1.5672913670539856\n"
          ]
        },
        {
          "output_type": "execute_result",
          "data": {
            "text/plain": [
              "<Axes: >"
            ]
          },
          "metadata": {},
          "execution_count": 128
        },
        {
          "output_type": "display_data",
          "data": {
            "text/plain": [
              "<Figure size 640x480 with 1 Axes>"
            ],
            "image/png": "[encoded data removed]"
          },
          "metadata": {}
        }
      ]
    },
    {
      "cell_type": "code",
      "source": [
        "print(generate(llama, MASTER_CONFIG, 500)[0])"
      ],
      "metadata": {
        "colab": {
          "base_uri": "https://localhost:8080/"
        },
        "id": "zulhP8NIH9eu",
        "outputId": "c7594c84-673a-49bc-b0bb-acd6c0cc759e"
      },
      "execution_count": 129,
      "outputs": [
        {
          "output_type": "stream",
          "name": "stdout",
          "text": [
            "\n",
            "SOMPAT:\n",
            "Am hould ha!\n",
            "While tthe thy grates his has wouch knows thy chais He no his slood\n",
            "Pe out ut strave!\n",
            "He quity depart?\n",
            "\n",
            "MANTICES:\n",
            "I hereassin his cannot.\n",
            "Despect\n",
            "Second two makling dever! you proly blave not this\n",
            "laid cunto us froms make with how saffer;\n",
            "She never 'for was the kirgys,\n",
            "As bave too slooc the come are a dumand beh of my mould him a asmend:\n",
            "I have kin-we merrand my heasues of lect a ulh\n",
            "Trancts that what of heok\n",
            "To hold\n",
            "Yis up. \n",
            "LADY IFAUENIUS:\n",
            "Re:\n",
            "The press you but ushdight.\n",
            "\n",
            "\n"
          ]
        }
      ]
    },
    {
      "cell_type": "markdown",
      "source": [
        "## Checking for Gradient Flows\n",
        "Let's inspect the gradients, we want to see how they're flowing. If there are too many gradients where the value is close to 0, that's a problem."
      ],
      "metadata": {
        "id": "flo3pfIXOT43"
      }
    },
    {
      "cell_type": "code",
      "source": [
        "# print the percentage that are near 0\n",
        "def show_grads(model, tol=1e-2):\n",
        "    return sorted([(name, 100.0 * float(torch.sum(torch.abs(param) <= tol)) / float(param.nelement())) for name, param in model.named_parameters() if param.requires_grad], key=lambda t: t[1], reverse=True)\n",
        "\n",
        "show_grads(llama)"
      ],
      "metadata": {
        "colab": {
          "base_uri": "https://localhost:8080/"
        },
        "id": "MoE33guDOZpr",
        "outputId": "8bbc4a46-c33a-45db-ddbb-bca6ec37aa09"
      },
      "execution_count": 130,
      "outputs": [
        {
          "output_type": "execute_result",
          "data": {
            "text/plain": [
              "[('llama_blocks.llama_0.attention.linear.weight', 25.68511962890625),\n",
              " ('llama_blocks.llama_3.attention.linear.weight', 25.2288818359375),\n",
              " ('llama_blocks.llama_2.attention.linear.weight', 23.094940185546875),\n",
              " ('llama_blocks.llama_1.attention.linear.weight', 21.38824462890625),\n",
              " ('llama_blocks.llama_3.attention.heads.1.w_v.weight', 17.047119140625),\n",
              " ('llama_blocks.llama_3.attention.heads.0.w_v.weight', 16.583251953125),\n",
              " ('llama_blocks.llama_3.attention.heads.4.w_v.weight', 16.015625),\n",
              " ('llama_blocks.llama_3.attention.heads.2.w_v.weight', 15.911865234375),\n",
              " ('llama_blocks.llama_3.attention.heads.3.w_v.weight', 15.7958984375),\n",
              " ('llama_blocks.llama_3.attention.heads.5.w_v.weight', 15.777587890625),\n",
              " ('llama_blocks.llama_2.attention.heads.4.w_v.weight', 15.399169921875),\n",
              " ('llama_blocks.llama_3.attention.heads.6.w_v.weight', 15.39306640625),\n",
              " ('llama_blocks.llama_2.attention.heads.3.w_v.weight', 15.386962890625),\n",
              " ('llama_blocks.llama_2.attention.heads.5.w_v.weight', 15.350341796875),\n",
              " ('llama_blocks.llama_2.attention.heads.0.w_v.weight', 15.264892578125),\n",
              " ('llama_blocks.llama_2.attention.heads.6.w_v.weight', 15.252685546875),\n",
              " ('llama_blocks.llama_2.attention.heads.7.w_v.weight', 15.191650390625),\n",
              " ('llama_blocks.llama_3.attention.heads.7.w_v.weight', 15.155029296875),\n",
              " ('llama_blocks.llama_2.attention.heads.2.w_v.weight', 15.093994140625),\n",
              " ('llama_blocks.llama_2.attention.heads.1.w_v.weight', 15.020751953125),\n",
              " ('llama_blocks.llama_1.attention.heads.2.w_v.weight', 15.0146484375),\n",
              " ('llama_blocks.llama_1.attention.heads.7.w_v.weight', 14.862060546875),\n",
              " ('llama_blocks.llama_1.attention.heads.1.w_v.weight', 14.593505859375),\n",
              " ('llama_blocks.llama_1.attention.heads.4.w_v.weight', 14.4287109375),\n",
              " ('llama_blocks.llama_0.attention.heads.6.w_v.weight', 14.215087890625),\n",
              " ('llama_blocks.llama_1.attention.heads.0.w_v.weight', 14.16015625),\n",
              " ('llama_blocks.llama_1.attention.heads.3.w_v.weight', 14.141845703125),\n",
              " ('llama_blocks.llama_1.attention.heads.6.w_v.weight', 14.129638671875),\n",
              " ('llama_blocks.llama_0.attention.heads.1.w_v.weight', 14.09912109375),\n",
              " ('llama_blocks.llama_0.attention.heads.3.w_v.weight', 13.812255859375),\n",
              " ('llama_blocks.llama_0.attention.heads.4.w_v.weight', 13.629150390625),\n",
              " ('llama_blocks.llama_0.attention.heads.0.w_v.weight', 13.446044921875),\n",
              " ('llama_blocks.llama_0.feedforward.1.linear.bias', 13.28125),\n",
              " ('llama_blocks.llama_0.attention.heads.7.w_v.weight', 13.250732421875),\n",
              " ('llama_blocks.llama_0.attention.heads.5.w_v.weight', 13.226318359375),\n",
              " ('llama_blocks.llama_1.attention.heads.5.w_v.weight', 13.092041015625),\n",
              " ('llama_blocks.llama_0.attention.heads.2.w_v.weight', 12.725830078125),\n",
              " ('llama_blocks.llama_3.feedforward.1.linear.bias', 12.5),\n",
              " ('llama_blocks.llama_3.attention.heads.1.w_q.weight', 12.02392578125),\n",
              " ('llama_blocks.llama_0.attention.heads.4.w_q.weight', 11.834716796875),\n",
              " ('llama_blocks.llama_1.feedforward.0.weight', 11.7919921875),\n",
              " ('llama_blocks.llama_3.attention.heads.1.w_k.weight', 11.75537109375),\n",
              " ('llama_blocks.llama_0.feedforward.0.bias', 11.71875),\n",
              " ('llama_blocks.llama_0.attention.heads.4.w_k.weight', 11.700439453125),\n",
              " ('llama_blocks.llama_0.attention.heads.7.w_q.weight', 11.669921875),\n",
              " ('llama_blocks.llama_0.feedforward.0.weight', 11.492919921875),\n",
              " ('llama_blocks.llama_0.attention.heads.6.w_q.weight', 11.376953125),\n",
              " ('llama_blocks.llama_0.attention.heads.3.w_q.weight', 11.370849609375),\n",
              " ('llama_blocks.llama_0.attention.heads.7.w_k.weight', 11.346435546875),\n",
              " ('llama_blocks.llama_0.attention.heads.1.w_k.weight', 11.297607421875),\n",
              " ('llama_blocks.llama_0.attention.heads.3.w_k.weight', 11.297607421875),\n",
              " ('llama_blocks.llama_0.attention.heads.5.w_k.weight', 11.1572265625),\n",
              " ('llama_blocks.llama_3.feedforward.0.weight', 11.151123046875),\n",
              " ('llama_blocks.llama_0.attention.heads.1.w_q.weight', 11.138916015625),\n",
              " ('llama_blocks.llama_3.attention.heads.0.w_k.weight', 11.083984375),\n",
              " ('llama_blocks.llama_0.attention.heads.0.w_q.weight', 11.077880859375),\n",
              " ('llama_blocks.llama_0.attention.heads.2.w_k.weight', 10.94970703125),\n",
              " ('llama_blocks.llama_2.feedforward.1.linear.bias', 10.9375),\n",
              " ('llama_blocks.llama_0.attention.heads.5.w_q.weight', 10.931396484375),\n",
              " ('llama_blocks.llama_0.attention.heads.0.w_k.weight', 10.870361328125),\n",
              " ('llama_blocks.llama_3.attention.heads.0.w_q.weight', 10.809326171875),\n",
              " ('llama_blocks.llama_0.attention.heads.6.w_k.weight', 10.784912109375),\n",
              " ('llama_blocks.llama_0.feedforward.1.linear_gate.weight', 10.772705078125),\n",
              " ('llama_blocks.llama_0.attention.heads.2.w_q.weight', 10.6201171875),\n",
              " ('llama_blocks.llama_2.feedforward.0.weight', 10.498046875),\n",
              " ('llama_blocks.llama_3.attention.heads.7.w_k.weight', 10.491943359375),\n",
              " ('llama_blocks.llama_3.attention.heads.7.w_q.weight', 10.382080078125),\n",
              " ('llama_blocks.llama_3.feedforward.1.linear.weight', 10.3759765625),\n",
              " ('llama_blocks.llama_3.attention.heads.3.w_q.weight', 10.2783203125),\n",
              " ('llama_blocks.llama_3.attention.heads.6.w_k.weight', 10.223388671875),\n",
              " ('llama_blocks.llama_3.attention.heads.4.w_q.weight', 10.21728515625),\n",
              " ('llama_blocks.llama_0.feedforward.1.linear.weight', 10.1806640625),\n",
              " ('llama_blocks.llama_0.attention.linear.bias', 10.15625),\n",
              " ('llama_blocks.llama_2.attention.heads.7.w_q.weight', 10.101318359375),\n",
              " ('llama_blocks.llama_3.attention.heads.4.w_k.weight', 10.05859375),\n",
              " ('llama_blocks.llama_3.attention.heads.2.w_k.weight', 9.99755859375),\n",
              " ('llama_blocks.llama_3.attention.heads.6.w_q.weight', 9.99755859375),\n",
              " ('llama_blocks.llama_3.attention.heads.3.w_k.weight', 9.991455078125),\n",
              " ('llama_blocks.llama_3.feedforward.1.linear_gate.weight', 9.9609375),\n",
              " ('llama_blocks.llama_1.feedforward.1.linear.weight', 9.942626953125),\n",
              " ('llama_blocks.llama_3.attention.heads.5.w_k.weight', 9.912109375),\n",
              " ('llama_blocks.llama_2.attention.heads.1.w_k.weight', 9.89990234375),\n",
              " ('llama_blocks.llama_2.feedforward.1.linear.weight', 9.857177734375),\n",
              " ('llama_blocks.llama_2.attention.heads.7.w_k.weight', 9.844970703125),\n",
              " ('llama_blocks.llama_2.attention.heads.1.w_q.weight', 9.8388671875),\n",
              " ('llama_blocks.llama_2.feedforward.1.linear_gate.weight', 9.783935546875),\n",
              " ('llama_blocks.llama_1.feedforward.1.linear_gate.weight', 9.735107421875),\n",
              " ('llama_blocks.llama_3.attention.heads.2.w_q.weight', 9.735107421875),\n",
              " ('llama_blocks.llama_1.attention.heads.0.w_q.weight', 9.65576171875),\n",
              " ('llama_blocks.llama_1.attention.heads.6.w_q.weight', 9.625244140625),\n",
              " ('llama_blocks.llama_2.attention.heads.6.w_q.weight', 9.619140625),\n",
              " ('llama_blocks.llama_2.attention.heads.6.w_k.weight', 9.600830078125),\n",
              " ('llama_blocks.llama_1.attention.heads.4.w_k.weight', 9.58251953125),\n",
              " ('llama_blocks.llama_2.attention.heads.0.w_k.weight', 9.5458984375),\n",
              " ('llama_blocks.llama_2.attention.heads.3.w_k.weight', 9.521484375),\n",
              " ('llama_blocks.llama_2.attention.heads.0.w_q.weight', 9.48486328125),\n",
              " ('llama_blocks.llama_2.attention.heads.3.w_q.weight', 9.478759765625),\n",
              " ('llama_blocks.llama_1.attention.heads.0.w_k.weight', 9.429931640625),\n",
              " ('llama_blocks.llama_3.attention.heads.5.w_q.weight', 9.393310546875),\n",
              " ('llama_blocks.llama_1.attention.heads.2.w_k.weight', 9.36279296875),\n",
              " ('llama_blocks.llama_1.attention.heads.1.w_k.weight', 9.356689453125),\n",
              " ('llama_blocks.llama_1.attention.heads.6.w_k.weight', 9.344482421875),\n",
              " ('llama_blocks.llama_2.attention.heads.2.w_q.weight', 9.326171875),\n",
              " ('llama_blocks.llama_1.attention.heads.2.w_q.weight', 9.320068359375),\n",
              " ('llama_blocks.llama_2.attention.heads.2.w_k.weight', 9.3017578125),\n",
              " ('llama_blocks.llama_1.attention.heads.5.w_k.weight', 9.24072265625),\n",
              " ('llama_blocks.llama_1.attention.heads.3.w_q.weight', 9.228515625),\n",
              " ('llama_blocks.llama_1.attention.heads.5.w_q.weight', 9.197998046875),\n",
              " ('llama_blocks.llama_2.attention.heads.4.w_q.weight', 9.197998046875),\n",
              " ('llama_blocks.llama_1.attention.heads.7.w_k.weight', 9.11865234375),\n",
              " ('llama_blocks.llama_1.attention.heads.1.w_q.weight', 9.088134765625),\n",
              " ('llama_blocks.llama_1.attention.heads.4.w_q.weight', 9.075927734375),\n",
              " ('llama_blocks.llama_1.attention.heads.7.w_q.weight', 9.063720703125),\n",
              " ('ffn.1.linear.weight', 9.063720703125),\n",
              " ('llama_blocks.llama_1.attention.heads.3.w_k.weight', 9.0087890625),\n",
              " ('ffn.0.weight', 8.87451171875),\n",
              " ('llama_blocks.llama_2.attention.heads.4.w_k.weight', 8.856201171875),\n",
              " ('ffn.1.linear_gate.weight', 8.831787109375),\n",
              " ('llama_blocks.llama_2.attention.heads.5.w_k.weight', 8.819580078125),\n",
              " ('llama_blocks.llama_2.attention.heads.5.w_q.weight', 8.642578125),\n",
              " ('llama_blocks.llama_1.feedforward.1.linear_gate.bias', 8.59375),\n",
              " ('llama_blocks.llama_2.feedforward.1.linear_gate.bias', 8.59375),\n",
              " ('ffn.2.weight', 7.427884615384615),\n",
              " ('llama_blocks.llama_0.feedforward.1.linear_gate.bias', 7.03125),\n",
              " ('llama_blocks.llama_2.feedforward.0.bias', 7.03125),\n",
              " ('llama_blocks.llama_3.feedforward.1.linear_gate.bias', 7.03125),\n",
              " ('ffn.1.linear_gate.bias', 7.03125),\n",
              " ('ffn.2.bias', 6.153846153846154),\n",
              " ('ffn.0.bias', 5.46875),\n",
              " ('llama_blocks.llama_1.attention.linear.bias', 4.6875),\n",
              " ('llama_blocks.llama_2.attention.linear.bias', 4.6875),\n",
              " ('ffn.1.linear.bias', 4.6875),\n",
              " ('llama_blocks.llama_1.feedforward.0.bias', 3.90625),\n",
              " ('llama_blocks.llama_1.feedforward.1.linear.bias', 3.90625),\n",
              " ('llama_blocks.llama_3.attention.linear.bias', 3.125),\n",
              " ('llama_blocks.llama_3.feedforward.0.bias', 2.34375),\n",
              " ('embeddings.weight', 0.9375),\n",
              " ('llama_blocks.llama_0.rms.scale', 0.0),\n",
              " ('llama_blocks.llama_0.feedforward.1.beta', 0.0),\n",
              " ('llama_blocks.llama_1.rms.scale', 0.0),\n",
              " ('llama_blocks.llama_1.feedforward.1.beta', 0.0),\n",
              " ('llama_blocks.llama_2.rms.scale', 0.0),\n",
              " ('llama_blocks.llama_2.feedforward.1.beta', 0.0),\n",
              " ('llama_blocks.llama_3.rms.scale', 0.0),\n",
              " ('llama_blocks.llama_3.feedforward.1.beta', 0.0),\n",
              " ('ffn.1.beta', 0.0)]"
            ]
          },
          "metadata": {},
          "execution_count": 130
        }
      ]
    },
    {
      "cell_type": "code",
      "source": [],
      "metadata": {
        "id": "bwdtZofFPyFL"
      },
      "execution_count": null,
      "outputs": []
    }
  ]
}