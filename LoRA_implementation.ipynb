{
  "nbformat": 4,
  "nbformat_minor": 0,
  "metadata": {
    "colab": {
      "provenance": [],
      "gpuType": "T4"
    },
    "kernelspec": {
      "name": "python3",
      "display_name": "Python 3"
    },
    "language_info": {
      "name": "python"
    },
    "accelerator": "GPU"
  },
  "cells": [
    {
      "cell_type": "markdown",
      "source": [
        "# LoRA Implementation with PyTorch"
      ],
      "metadata": {
        "id": "z5zuGIXlv7_K"
      }
    },
    {
      "cell_type": "code",
      "execution_count": 1,
      "metadata": {
        "id": "z00mmTUGXRiB"
      },
      "outputs": [],
      "source": [
        "# imports\n",
        "import torch\n",
        "import torchvision.datasets as datasets\n",
        "import torchvision.transforms as transforms\n",
        "import torch.nn as nn\n",
        "from tqdm import tqdm"
      ]
    },
    {
      "cell_type": "code",
      "source": [
        "# Making torch deterministic\n",
        "_ = torch.manual_seed(10)"
      ],
      "metadata": {
        "id": "0Hx-486dwTRU"
      },
      "execution_count": 2,
      "outputs": []
    },
    {
      "cell_type": "markdown",
      "source": [
        "We will be training a model to classify MNIST digits and then fine-tune the model on a particular digit on which it doesn't perform well"
      ],
      "metadata": {
        "id": "YDM_Ait2wlMl"
      }
    },
    {
      "cell_type": "code",
      "source": [
        "transform = transforms.Compose([transforms.ToTensor(), transforms.Normalize((0.1307, ), (0.3081, ))])\n",
        "\n",
        "# Loading the MNIST Dataset\n",
        "mnist_trainset = datasets.MNIST(root=\"./data\", train=True, download=True, transform=transform)\n",
        "# Dataloader\n",
        "train_loader = torch.utils.data.DataLoader(mnist_trainset, batch_size=10, shuffle=True)\n",
        "\n",
        "# Loading the MNIST test set\n",
        "mnist_testset =  datasets.MNIST(root='./data', train=False, download=True, transform=transform)\n",
        "test_loader = torch.utils.data.DataLoader(mnist_testset, batch_size=10, shuffle=True)\n",
        "\n",
        "# Setting Device\n",
        "device = torch.device(\"cuda:0\" if torch.cuda.is_available() else \"cpu\")"
      ],
      "metadata": {
        "id": "NPrIJQavwcuU"
      },
      "execution_count": 3,
      "outputs": []
    },
    {
      "cell_type": "markdown",
      "source": [
        "Creating a NN to classify the digits. Will be making it overly complicated with very high parameters to show the power of LoRA"
      ],
      "metadata": {
        "id": "AMo7Ev8Wx152"
      }
    },
    {
      "cell_type": "code",
      "source": [
        "class BahutDangorNet(nn.Module):\n",
        "  def __init__(self, hidden_size_1=1000, hidden_size_2=2000):\n",
        "    super(BahutDangorNet, self).__init__()\n",
        "    self.linear1 = nn.Linear(28*28, hidden_size_1)\n",
        "    self.linear2 = nn.Linear(hidden_size_1, hidden_size_2)\n",
        "    self.linear3 = nn.Linear(hidden_size_2, 10)\n",
        "    self.relu = nn.ReLU()\n",
        "\n",
        "  def forward(self, img):\n",
        "    x = img.view(-1, 28*28)\n",
        "    x = self.relu(self.linear1(x))\n",
        "    x = self.relu(self.linear2(x))\n",
        "    x = self.linear3(x)\n",
        "\n",
        "    return x\n",
        "\n",
        "model = BahutDangorNet().to(device)"
      ],
      "metadata": {
        "id": "0Mfb0A-1xrpz"
      },
      "execution_count": 4,
      "outputs": []
    },
    {
      "cell_type": "markdown",
      "source": [
        "Training for only 1 Epoch to simulate a general pre-training on the data"
      ],
      "metadata": {
        "id": "eJTaWWHTzcAw"
      }
    },
    {
      "cell_type": "code",
      "source": [
        "def train(train_loader, model, epochs=5, total_iterations_limit=None):\n",
        "  cross_el = nn.CrossEntropyLoss()\n",
        "  optimizer = torch.optim.Adam(model.parameters(), lr=0.001)\n",
        "\n",
        "  total_iterations = 0\n",
        "\n",
        "  for epoch in range(epochs):\n",
        "    model.train()\n",
        "\n",
        "    loss_sum = 0\n",
        "    num_iterations = 0\n",
        "\n",
        "    data_iter = tqdm(train_loader, desc=f\"Epoch {epoch+1}\")\n",
        "    if total_iterations_limit is not None:\n",
        "      data_iter.total = total_iterations_limit\n",
        "\n",
        "    for data in data_iter:\n",
        "      num_iterations += 1\n",
        "      total_iterations += 1\n",
        "      x, y = data\n",
        "      x = x.to(device)\n",
        "      y = y.to(device)\n",
        "\n",
        "      optimizer.zero_grad()\n",
        "\n",
        "      out = model(x.view(-1, 28*28))\n",
        "      # print(out, y)\n",
        "      loss = cross_el(out, y)\n",
        "\n",
        "      loss_sum += loss.item()\n",
        "      avg_loss = loss_sum / num_iterations\n",
        "      data_iter.set_postfix(loss=avg_loss)\n",
        "\n",
        "      loss.backward()\n",
        "      optimizer.step()\n",
        "\n",
        "      if total_iterations_limit is not None and total_iterations >= total_iterations_limit:\n",
        "        return"
      ],
      "metadata": {
        "id": "2mnMB3PvzMp8"
      },
      "execution_count": 5,
      "outputs": []
    },
    {
      "cell_type": "code",
      "source": [
        "train(train_loader, model, epochs=1)"
      ],
      "metadata": {
        "colab": {
          "base_uri": "https://localhost:8080/"
        },
        "id": "C9yv_Njt0-aB",
        "outputId": "82fee1fa-5609-4ade-8fd3-77d66849d750"
      },
      "execution_count": 6,
      "outputs": [
        {
          "output_type": "stream",
          "name": "stderr",
          "text": [
            "Epoch 1: 100%|██████████| 6000/6000 [00:53<00:00, 112.51it/s, loss=0.246]\n"
          ]
        }
      ]
    },
    {
      "cell_type": "markdown",
      "source": [
        "Testing the performance of the pretrained model. Observe that the model performs poorly on the digit 8, so we will fine tune it on digit 8"
      ],
      "metadata": {
        "id": "dSU4SAiP1mCn"
      }
    },
    {
      "cell_type": "code",
      "source": [
        "def test():\n",
        "  correct = 0\n",
        "  total = 0\n",
        "\n",
        "  wrong_counts = [0 for i in range(10)]\n",
        "\n",
        "  with torch.no_grad():\n",
        "    for data in tqdm(test_loader, desc='Testing'):\n",
        "      x, y = data\n",
        "      x = x.to(device)\n",
        "      y = y.to(device)\n",
        "      out = model(x.view(-1, 28*28))\n",
        "\n",
        "      for idx, i in enumerate(out):\n",
        "        if torch.argmax(i) == y[idx]:\n",
        "          correct += 1\n",
        "        else:\n",
        "          wrong_counts[y[idx]] += 1\n",
        "        total += 1\n",
        "\n",
        "    print(f'\\nAccuracy: {round(correct/total, 3)}')\n",
        "    for i in range(len(wrong_counts)):\n",
        "      print(f'wrong counts for the digit {i}: {wrong_counts[i]}')\n",
        "\n",
        "test()"
      ],
      "metadata": {
        "colab": {
          "base_uri": "https://localhost:8080/"
        },
        "id": "4rAvZRfC1cfQ",
        "outputId": "7e731f3c-efdc-4cdf-a410-c731585f0e6a"
      },
      "execution_count": 7,
      "outputs": [
        {
          "output_type": "stream",
          "name": "stderr",
          "text": [
            "Testing: 100%|██████████| 1000/1000 [00:03<00:00, 256.97it/s]"
          ]
        },
        {
          "output_type": "stream",
          "name": "stdout",
          "text": [
            "\n",
            "Accuracy: 0.963\n",
            "wrong counts for the digit 0: 19\n",
            "wrong counts for the digit 1: 14\n",
            "wrong counts for the digit 2: 52\n",
            "wrong counts for the digit 3: 32\n",
            "wrong counts for the digit 4: 32\n",
            "wrong counts for the digit 5: 47\n",
            "wrong counts for the digit 6: 20\n",
            "wrong counts for the digit 7: 32\n",
            "wrong counts for the digit 8: 69\n",
            "wrong counts for the digit 9: 52\n"
          ]
        },
        {
          "output_type": "stream",
          "name": "stderr",
          "text": [
            "\n"
          ]
        }
      ]
    },
    {
      "cell_type": "markdown",
      "source": [
        "Let's see how many parameters are in the original model, before introducing the LoRA matrices"
      ],
      "metadata": {
        "id": "sQ4DO_Ad2wLy"
      }
    },
    {
      "cell_type": "code",
      "source": [
        "total_parameters_original = 0\n",
        "for index, layer in enumerate([model.linear1, model.linear2, model.linear3]):\n",
        "    total_parameters_original += layer.weight.nelement() + layer.bias.nelement()\n",
        "    print(f'Layer {index+1}: W: {layer.weight.shape} + B: {layer.bias.shape}')\n",
        "print(f'Total number of parameters: {total_parameters_original:,}')"
      ],
      "metadata": {
        "colab": {
          "base_uri": "https://localhost:8080/"
        },
        "id": "bX6cte3H2tpz",
        "outputId": "48b15438-3b88-4fad-b668-4af8cb0fe8a7"
      },
      "execution_count": 8,
      "outputs": [
        {
          "output_type": "stream",
          "name": "stdout",
          "text": [
            "Layer 1: W: torch.Size([1000, 784]) + B: torch.Size([1000])\n",
            "Layer 2: W: torch.Size([2000, 1000]) + B: torch.Size([2000])\n",
            "Layer 3: W: torch.Size([10, 2000]) + B: torch.Size([10])\n",
            "Total number of parameters: 2,807,010\n"
          ]
        }
      ]
    },
    {
      "cell_type": "markdown",
      "source": [
        "Defining the LoRA parametrization as described in the paper"
      ],
      "metadata": {
        "id": "GMM2ucHa3CTV"
      }
    },
    {
      "cell_type": "code",
      "source": [
        "class LoRAParametrization(nn.Module):\n",
        "  def __init__(self, features_in, features_out, rank=1, alpha=1, device=\"cpu\"):\n",
        "    super().__init__()\n",
        "    # Section 4.1 of the paper:\n",
        "    # We use a random Gaussian initialization for A and zero for B, so ∆W = BA is zero at the beginning of training\n",
        "    self.lora_A = nn.Parameter(torch.zeros((rank, features_out)).to(device))\n",
        "    self.lora_B = nn.Parameter(torch.zeros((features_in, rank)).to(device))\n",
        "    nn.init.normal_(self.lora_A, mean=0, std=1)\n",
        "\n",
        "    # Section 4.1 of the paper:\n",
        "    # We then scale ∆Wx by α/r , where α is a constant in r.\n",
        "    # When optimizing with Adam, tuning α is roughly the same as tuning the learning rate if we scale the initialization appropriately\n",
        "    # As a result, we simply set α to the first r we try and do not tune it.\n",
        "    # This scaling helps to reduce the need to retune hyperparameters when we vary r.\n",
        "    self.scale = alpha / rank\n",
        "    self.enable = True\n",
        "\n",
        "  def forward(self, original_weights):\n",
        "    if self.enable:\n",
        "      # Return W + (B*A)*scale\n",
        "      return original_weights + torch.matmul(self.lora_B, self.lora_A).view(original_weights.shape) * self.scale\n",
        "    else:\n",
        "      return original_weights"
      ],
      "metadata": {
        "id": "imdiG91G29mX"
      },
      "execution_count": 9,
      "outputs": []
    },
    {
      "cell_type": "markdown",
      "source": [
        "Adding the parameterization to our model.\n",
        "\n",
        "https://pytorch.org/tutorials/intermediate/parametrizations.html"
      ],
      "metadata": {
        "id": "fzDd4uLK5SBB"
      }
    },
    {
      "cell_type": "code",
      "source": [
        "import torch.nn.utils.parametrize as parametrize\n",
        "\n",
        "def linear_layer_parameterization(layer, device, rank=1, lora_alpha=1):\n",
        "    # Only add the parameterization to the weight matrix, ignore the Bias\n",
        "\n",
        "    features_in, features_out = layer.weight.shape\n",
        "    return LoRAParametrization(\n",
        "        features_in, features_out, rank=rank, alpha=lora_alpha, device=device\n",
        "    )\n",
        "\n",
        "parametrize.register_parametrization(\n",
        "    model.linear1, \"weight\", linear_layer_parameterization(model.linear1, device)\n",
        ")\n",
        "parametrize.register_parametrization(\n",
        "    model.linear2, \"weight\", linear_layer_parameterization(model.linear2, device)\n",
        ")\n",
        "parametrize.register_parametrization(\n",
        "    model.linear3, \"weight\", linear_layer_parameterization(model.linear3, device)\n",
        ")\n",
        "\n",
        "\n",
        "def enable_disable_lora(enable=True):\n",
        "    for layer in [model.linear1, model.linear2, model.linear3]:\n",
        "        layer.parametrizations[\"weight\"][0].enable = enable"
      ],
      "metadata": {
        "id": "jrr-s-925MqW"
      },
      "execution_count": 10,
      "outputs": []
    },
    {
      "cell_type": "markdown",
      "source": [
        "Display the number of parameters added by LoRA"
      ],
      "metadata": {
        "id": "RF3_19Om6_yi"
      }
    },
    {
      "cell_type": "code",
      "source": [
        "total_parameters_lora = 0\n",
        "total_parameters_non_lora = 0\n",
        "for index, layer in enumerate([model.linear1, model.linear2, model.linear3]):\n",
        "    total_parameters_lora += layer.parametrizations[\"weight\"][0].lora_A.nelement() + layer.parametrizations[\"weight\"][0].lora_B.nelement()\n",
        "    total_parameters_non_lora += layer.weight.nelement() + layer.bias.nelement()\n",
        "    print(\n",
        "        f'Layer {index+1}: W: {layer.weight.shape} + B: {layer.bias.shape} + Lora_A: {layer.parametrizations[\"weight\"][0].lora_A.shape} + Lora_B: {layer.parametrizations[\"weight\"][0].lora_B.shape}'\n",
        "    )\n",
        "# The non-LoRA parameters count must match the original network\n",
        "assert total_parameters_non_lora == total_parameters_original\n",
        "print(f'Total number of parameters (original): {total_parameters_non_lora:,}')\n",
        "print(f'Total number of parameters (original + LoRA): {total_parameters_lora + total_parameters_non_lora:,}')\n",
        "print(f'Parameters introduced by LoRA: {total_parameters_lora:,}')\n",
        "parameters_incremment = (total_parameters_lora / total_parameters_non_lora) * 100\n",
        "print(f'Parameters incremment: {parameters_incremment:.3f}%')"
      ],
      "metadata": {
        "colab": {
          "base_uri": "https://localhost:8080/"
        },
        "id": "w89ifmtR6NUt",
        "outputId": "0a7606de-3a5b-4cba-ea8a-f975646b8fa6"
      },
      "execution_count": 11,
      "outputs": [
        {
          "output_type": "stream",
          "name": "stdout",
          "text": [
            "Layer 1: W: torch.Size([1000, 784]) + B: torch.Size([1000]) + Lora_A: torch.Size([1, 784]) + Lora_B: torch.Size([1000, 1])\n",
            "Layer 2: W: torch.Size([2000, 1000]) + B: torch.Size([2000]) + Lora_A: torch.Size([1, 1000]) + Lora_B: torch.Size([2000, 1])\n",
            "Layer 3: W: torch.Size([10, 2000]) + B: torch.Size([10]) + Lora_A: torch.Size([1, 2000]) + Lora_B: torch.Size([10, 1])\n",
            "Total number of parameters (original): 2,807,010\n",
            "Total number of parameters (original + LoRA): 2,813,804\n",
            "Parameters introduced by LoRA: 6,794\n",
            "Parameters incremment: 0.242%\n"
          ]
        }
      ]
    },
    {
      "cell_type": "markdown",
      "source": [
        "Freeze all the parameters of the original model and only fine tuning the ones introduced by LoRA. Then fine-tune the model on the digit 8 and only for 100 batches."
      ],
      "metadata": {
        "id": "3Jb9VMJW7Qw6"
      }
    },
    {
      "cell_type": "code",
      "source": [
        "# Freeze the non-Lora parameters\n",
        "for name, param in model.named_parameters():\n",
        "  if 'lora' not in name:\n",
        "    print(f\"Freezing non-LoRA parameters {name}\")\n",
        "    param.require_grad = False\n",
        "\n",
        "# Load the MNIST dataset again, by keeping only the digit 8\n",
        "mnist_trainset = datasets.MNIST(root='./data', train=True, download=True, transform=transform)\n",
        "exclude_indices = mnist_trainset.targets == 8\n",
        "mnist_trainset.data = mnist_trainset.data[exclude_indices]\n",
        "mnist_trainset.targets = mnist_trainset.targets[exclude_indices]\n",
        "\n",
        "# Create a dataloader for the training\n",
        "train_loader = torch.utils.data.DataLoader(mnist_trainset, batch_size=10, shuffle=True)\n",
        "\n",
        "# Train the network with LoRA only on the digit 8 and only for 100 batches\n",
        "train(train_loader, model, epochs=1, total_iterations_limit=100)"
      ],
      "metadata": {
        "colab": {
          "base_uri": "https://localhost:8080/"
        },
        "id": "5PYWqyoX7Ei1",
        "outputId": "4b8b23a7-1acb-4658-ffb6-e1cf73bfe030"
      },
      "execution_count": 14,
      "outputs": [
        {
          "output_type": "stream",
          "name": "stdout",
          "text": [
            "Freezing non-LoRA parameters linear1.bias\n",
            "Freezing non-LoRA parameters linear1.parametrizations.weight.original\n",
            "Freezing non-LoRA parameters linear2.bias\n",
            "Freezing non-LoRA parameters linear2.parametrizations.weight.original\n",
            "Freezing non-LoRA parameters linear3.bias\n",
            "Freezing non-LoRA parameters linear3.parametrizations.weight.original\n"
          ]
        },
        {
          "output_type": "stream",
          "name": "stderr",
          "text": [
            "Epoch 1:  99%|█████████▉| 99/100 [00:01<00:00, 61.12it/s, loss=0.174]\n"
          ]
        }
      ]
    },
    {
      "cell_type": "markdown",
      "source": [
        "Test the model with LoRA enabled (the digit 8 should be classified better)"
      ],
      "metadata": {
        "id": "gdHEpe8O-AEy"
      }
    },
    {
      "cell_type": "code",
      "source": [
        "# Test with LoRA enabled\n",
        "enable_disable_lora(enable=True)\n",
        "test()"
      ],
      "metadata": {
        "colab": {
          "base_uri": "https://localhost:8080/"
        },
        "id": "RslC0RIY990e",
        "outputId": "52c9103b-695d-43e4-8b9e-aae506d3c156"
      },
      "execution_count": 15,
      "outputs": [
        {
          "output_type": "stream",
          "name": "stderr",
          "text": [
            "Testing: 100%|██████████| 1000/1000 [00:04<00:00, 217.46it/s]"
          ]
        },
        {
          "output_type": "stream",
          "name": "stdout",
          "text": [
            "\n",
            "Accuracy: 0.381\n",
            "wrong counts for the digit 0: 239\n",
            "wrong counts for the digit 1: 1135\n",
            "wrong counts for the digit 2: 776\n",
            "wrong counts for the digit 3: 401\n",
            "wrong counts for the digit 4: 767\n",
            "wrong counts for the digit 5: 781\n",
            "wrong counts for the digit 6: 335\n",
            "wrong counts for the digit 7: 755\n",
            "wrong counts for the digit 8: 0\n",
            "wrong counts for the digit 9: 1005\n"
          ]
        },
        {
          "output_type": "stream",
          "name": "stderr",
          "text": [
            "\n"
          ]
        }
      ]
    }
  ]
}